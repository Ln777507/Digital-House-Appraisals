{
 "cells": [
  {
   "cell_type": "markdown",
   "id": "c015732d",
   "metadata": {},
   "source": [
    "# 🏠 Predicting Housing Prices with Machine Learning\n",
    "\n",
    "**Author:** Lenise Muso Nkwain\n",
    "\n",
    "This notebook explores a machine learning approach to predict housing prices based on geographic and socioeconomic features, with a deeper analytical lens."
   ]
  },
  {
   "cell_type": "markdown",
   "id": "5692840d",
   "metadata": {},
   "source": [
    "## 📊 Load and Explore the Dataset"
   ]
  },
  {
   "cell_type": "code",
   "execution_count": null,
   "id": "ca379cc4",
   "metadata": {},
   "outputs": [],
   "source": [
    "import pandas as pd\n",
    "import numpy as np\n",
    "import matplotlib.pyplot as plt\n",
    "import seaborn as sns\n",
    "\n",
    "# Set visual theme\n",
    "sns.set(style='whitegrid')\n",
    "\n",
    "# Load dataset\n",
    "housing = pd.read_csv('housing 2.csv')\n",
    "housing.head()"
   ]
  },
  {
   "cell_type": "markdown",
   "id": "00187997",
   "metadata": {},
   "source": [
    "## 🧹 Data Cleaning"
   ]
  },
  {
   "cell_type": "code",
   "execution_count": null,
   "id": "8ee71527",
   "metadata": {},
   "outputs": [],
   "source": [
    "# Overview of data\n",
    "housing.info()\n",
    "\n",
    "# Drop missing values for simplicity\n",
    "housing = housing.dropna()\n",
    "\n",
    "# Summary statistics\n",
    "housing.describe()"
   ]
  },
  {
   "cell_type": "markdown",
   "id": "d6962713",
   "metadata": {},
   "source": [
    "## 📈 Exploratory Data Analysis (EDA)"
   ]
  },
  {
   "cell_type": "code",
   "execution_count": null,
   "id": "aa53b43f",
   "metadata": {},
   "outputs": [],
   "source": [
    "# Visualizing housing prices distribution\n",
    "plt.figure(figsize=(8,6))\n",
    "sns.histplot(housing['median_house_value'], kde=True, bins=50)\n",
    "plt.title('Distribution of Median House Value')\n",
    "plt.xlabel('Median House Value')\n",
    "plt.ylabel('Frequency')\n",
    "plt.show()"
   ]
  },
  {
   "cell_type": "code",
   "execution_count": null,
   "id": "83559bb2",
   "metadata": {},
   "outputs": [],
   "source": [
    "# Correlation matrix\n",
    "plt.figure(figsize=(10,8))\n",
    "sns.heatmap(housing.corr(), annot=True, cmap='coolwarm', fmt='.2f')\n",
    "plt.title('Correlation Matrix')\n",
    "plt.show()"
   ]
  },
  {
   "cell_type": "code",
   "execution_count": null,
   "id": "d3f17309",
   "metadata": {},
   "outputs": [],
   "source": [
    "# Scatter plot: Median Income vs. House Value\n",
    "plt.figure(figsize=(8,6))\n",
    "sns.scatterplot(x='median_income', y='median_house_value', data=housing)\n",
    "plt.title('Income vs. House Value')\n",
    "plt.show()"
   ]
  },
  {
   "cell_type": "markdown",
   "id": "0a030232",
   "metadata": {},
   "source": [
    "## 🧠 Feature Engineering and Encoding"
   ]
  },
  {
   "cell_type": "code",
   "execution_count": null,
   "id": "5f6a6741",
   "metadata": {},
   "outputs": [],
   "source": [
    "# Encode categorical variable\n",
    "ocean_dummies = pd.get_dummies(housing['ocean_proximity'], drop_first=True)\n",
    "housing = pd.concat([housing.drop('ocean_proximity', axis=1), ocean_dummies], axis=1)\n",
    "housing.head()"
   ]
  },
  {
   "cell_type": "markdown",
   "id": "465c3ac0",
   "metadata": {},
   "source": [
    "## 🧪 Feature Importance"
   ]
  },
  {
   "cell_type": "code",
   "execution_count": null,
   "id": "873f2c33",
   "metadata": {},
   "outputs": [],
   "source": [
    "from sklearn.ensemble import RandomForestRegressor\n",
    "\n",
    "X = housing.drop('median_house_value', axis=1)\n",
    "y = housing['median_house_value']\n",
    "\n",
    "rf = RandomForestRegressor(n_estimators=100, random_state=42)\n",
    "rf.fit(X, y)\n",
    "\n",
    "# Feature importance plot\n",
    "importances = pd.Series(rf.feature_importances_, index=X.columns)\n",
    "importances.sort_values().plot(kind='barh', figsize=(10,6), title='Feature Importances')\n",
    "plt.show()"
   ]
  },
  {
   "cell_type": "markdown",
   "id": "07c2f8b2",
   "metadata": {},
   "source": [
    "## 🤖 Model Training and Evaluation"
   ]
  },
  {
   "cell_type": "code",
   "execution_count": null,
   "id": "c965416b",
   "metadata": {},
   "outputs": [],
   "source": [
    "from sklearn.model_selection import train_test_split\n",
    "from sklearn.metrics import mean_squared_error, r2_score\n",
    "\n",
    "X_train, X_test, y_train, y_test = train_test_split(X, y, test_size=0.2, random_state=42)\n",
    "\n",
    "model = RandomForestRegressor(n_estimators=100, random_state=42)\n",
    "model.fit(X_train, y_train)\n",
    "\n",
    "y_pred = model.predict(X_test)\n",
    "\n",
    "# Evaluation\n",
    "rmse = np.sqrt(mean_squared_error(y_test, y_pred))\n",
    "r2 = r2_score(y_test, y_pred)\n",
    "print(f\"RMSE: {rmse:.2f}\")\n",
    "print(f\"R² Score: {r2:.2f}\")"
   ]
  },
  {
   "cell_type": "markdown",
   "id": "657afea3",
   "metadata": {},
   "source": [
    "## 📊 Residual Analysis"
   ]
  },
  {
   "cell_type": "code",
   "execution_count": null,
   "id": "eeb6df45",
   "metadata": {},
   "outputs": [],
   "source": [
    "# Residual plot\n",
    "residuals = y_test - y_pred\n",
    "plt.figure(figsize=(8,6))\n",
    "sns.histplot(residuals, kde=True)\n",
    "plt.title('Residuals Distribution')\n",
    "plt.xlabel('Error')\n",
    "plt.show()"
   ]
  },
  {
   "cell_type": "code",
   "execution_count": null,
   "id": "19f4826e",
   "metadata": {},
   "outputs": [],
   "source": [
    "# Predicted vs Actual\n",
    "plt.figure(figsize=(8,6))\n",
    "sns.scatterplot(x=y_test, y=y_pred)\n",
    "plt.xlabel('Actual Values')\n",
    "plt.ylabel('Predicted Values')\n",
    "plt.title('Actual vs. Predicted Home Prices')\n",
    "plt.plot([y_test.min(), y_test.max()], [y_test.min(), y_test.max()], '--r')\n",
    "plt.show()"
   ]
  },
  {
   "cell_type": "markdown",
   "id": "ab517800",
   "metadata": {},
   "source": [
    "## 🧾 Conclusion and Recommendations"
   ]
  },
  {
   "cell_type": "markdown",
   "id": "faa64da4",
   "metadata": {},
   "source": [
    "- **Income** and **location** are strong indicators of housing prices.\n",
    "- The Random Forest model performs well, with solid R² and low RMSE.\n",
    "- Future improvements could include:\n",
    "  - Incorporating time series data for trend analysis\n",
    "  - Using deep learning models for feature-rich inputs like images\n",
    "  - Expanding data coverage beyond California\n"
   ]
  },
  {
   "cell_type": "markdown",
   "id": "2c4e732a",
   "metadata": {},
   "source": [
    "## 🧪 Statistical Tests"
   ]
  },
  {
   "cell_type": "markdown",
   "id": "d119f905",
   "metadata": {},
   "source": [
    "### 🔍 Normality Test for Target Variable"
   ]
  },
  {
   "cell_type": "code",
   "execution_count": null,
   "id": "0cebb344",
   "metadata": {},
   "outputs": [],
   "source": [
    "from scipy.stats import shapiro\n",
    "\n",
    "# Shapiro-Wilk test for normality\n",
    "stat, p = shapiro(housing['median_house_value'])\n",
    "print('Shapiro-Wilk Test Statistic=%.3f, p=%.3f' % (stat, p))\n",
    "if p > 0.05:\n",
    "    print('✅ The distribution of house values appears normal (fail to reject H0)')\n",
    "else:\n",
    "    print('❌ The distribution of house values is not normal (reject H0)')"
   ]
  },
  {
   "cell_type": "markdown",
   "id": "f318fb6f",
   "metadata": {},
   "source": [
    "### 🔗 Pearson Correlation Test Between Features and Target"
   ]
  },
  {
   "cell_type": "code",
   "execution_count": null,
   "id": "6684dbc5",
   "metadata": {},
   "outputs": [],
   "source": [
    "# Pearson correlation test for each numeric feature\n",
    "from scipy.stats import pearsonr\n",
    "\n",
    "for col in housing.select_dtypes(include=[np.number]).columns:\n",
    "    if col != 'median_house_value':\n",
    "        corr, p = pearsonr(housing[col], housing['median_house_value'])\n",
    "        print(f\"{col}: Pearson correlation = {corr:.3f}, p-value = {p:.3f}\")"
   ]
  },
  {
   "cell_type": "markdown",
   "id": "97fcea72",
   "metadata": {},
   "source": [
    "### 🧪 T-test: High vs Low Income Areas"
   ]
  },
  {
   "cell_type": "code",
   "execution_count": null,
   "id": "717c848b",
   "metadata": {},
   "outputs": [],
   "source": [
    "# Compare house values between high and low income areas\n",
    "from scipy.stats import ttest_ind\n",
    "\n",
    "median_income_threshold = housing['median_income'].median()\n",
    "high_income = housing[housing['median_income'] > median_income_threshold]['median_house_value']\n",
    "low_income = housing[housing['median_income'] <= median_income_threshold]['median_house_value']\n",
    "\n",
    "stat, p = ttest_ind(high_income, low_income)\n",
    "print('T-test Statistic=%.3f, p=%.3f' % (stat, p))\n",
    "if p < 0.05:\n",
    "    print('✅ Significant difference in home values between income groups')\n",
    "else:\n",
    "    print('❌ No significant difference in home values between income groups')"
   ]
  }
 ],
 "metadata": {
  "kernelspec": {
   "display_name": "Python [conda env:base] *",
   "language": "python",
   "name": "conda-base-py"
  },
  "language_info": {
   "codemirror_mode": {
    "name": "ipython",
    "version": 3
   },
   "file_extension": ".py",
   "mimetype": "text/x-python",
   "name": "python",
   "nbconvert_exporter": "python",
   "pygments_lexer": "ipython3",
   "version": "3.12.7"
  }
 },
 "nbformat": 4,
 "nbformat_minor": 5
}
